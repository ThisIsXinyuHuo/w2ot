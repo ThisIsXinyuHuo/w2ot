{
  "nbformat": 4,
  "nbformat_minor": 0,
  "metadata": {
    "colab": {
      "provenance": [],
      "authorship_tag": "ABX9TyO5d3JHqH2BXHPZ3e5SNpdH",
      "include_colab_link": true
    },
    "kernelspec": {
      "name": "python3",
      "display_name": "Python 3"
    },
    "language_info": {
      "name": "python"
    }
  },
  "cells": [
    {
      "cell_type": "markdown",
      "metadata": {
        "id": "view-in-github",
        "colab_type": "text"
      },
      "source": [
        "<a href=\"https://colab.research.google.com/github/ThisIsXinyuHuo/w2ot/blob/main/project.ipynb\" target=\"_parent\"><img src=\"https://colab.research.google.com/assets/colab-badge.svg\" alt=\"Open In Colab\"/></a>"
      ]
    },
    {
      "cell_type": "code",
      "source": [
        "import time\n",
        "import numpy as np\n",
        "import pandas as pd\n",
        "import random\n",
        "import matplotlib.pyplot as plt\n",
        "\n",
        "# import standard PyTorch modules\n",
        "import torch\n",
        "import torch.nn as nn\n",
        "import torch.optim as optim\n",
        "\n",
        "# import torchvision module to handle image manipulation\n",
        "import torchvision\n",
        "import torchvision.transforms as transforms\n",
        "print(\"Running on torch.__version__ = \", torch.__version__)\n",
        "\n",
        "torch.backends.cudnn.deterministic = True\n",
        "\n",
        "# utils\n",
        "import os\n",
        "from tqdm import tqdm\n",
        "tqdm.pandas()\n",
        "from collections import Counter"
      ],
      "metadata": {
        "colab": {
          "base_uri": "https://localhost:8080/"
        },
        "id": "Nnz-j8azdMoc",
        "outputId": "d8250ce6-1313-4784-9f3b-ad82a8ba3a3e"
      },
      "execution_count": null,
      "outputs": [
        {
          "output_type": "stream",
          "name": "stdout",
          "text": [
            "Running on torch.__version__ =  2.1.0+cu118\n"
          ]
        }
      ]
    },
    {
      "cell_type": "code",
      "execution_count": null,
      "metadata": {
        "id": "QlLS8Vu64H88"
      },
      "outputs": [],
      "source": [
        "%matplotlib inline\n",
        "\n",
        "import subprocess\n",
        "import numpy as np\n",
        "import matplotlib.cm as cm\n",
        "from datetime import datetime\n",
        "plt.style.use('ggplot')\n",
        "\n",
        "from pylab import rcParams\n",
        "rcParams['figure.figsize'] = (10, 6)\n",
        "\n",
        "import matplotlib\n",
        "font = {'family' : 'sans-serif',\n",
        "        'weight' : 'normal',\n",
        "        'size'   : 17}\n",
        "matplotlib.rc('font', **font)\n",
        "\n",
        "import warnings\n",
        "warnings.filterwarnings(\"ignore\")"
      ]
    },
    {
      "cell_type": "code",
      "source": [
        "from google.colab import drive\n",
        "drive.mount('/content/gdrive', force_remount=True)"
      ],
      "metadata": {
        "colab": {
          "base_uri": "https://localhost:8080/"
        },
        "id": "JY-x2efs4oiV",
        "outputId": "c1922190-22fc-41a6-ea73-e4884a223e6d"
      },
      "execution_count": null,
      "outputs": [
        {
          "output_type": "stream",
          "name": "stdout",
          "text": [
            "Mounted at /content/gdrive\n"
          ]
        }
      ]
    },
    {
      "cell_type": "code",
      "source": [
        "%cd gdrive/My Drive/project/"
      ],
      "metadata": {
        "colab": {
          "base_uri": "https://localhost:8080/"
        },
        "id": "ULl5Rin04q5q",
        "outputId": "ada92381-2791-429c-bc67-21d6a38f5c54"
      },
      "execution_count": null,
      "outputs": [
        {
          "output_type": "stream",
          "name": "stdout",
          "text": [
            "/content/gdrive/My Drive/project\n"
          ]
        }
      ]
    },
    {
      "cell_type": "code",
      "source": [
        "# functions to read data and meta data\n",
        "def read_data_given_id(path,ids,progress=True,last_offset=0):\n",
        "    '''read data given a list of ids and CSV paths'''\n",
        "    start = datetime.now()\n",
        "    n = len(ids)\n",
        "    if n == 0:\n",
        "        return {}\n",
        "    else:\n",
        "        data = {}\n",
        "        for (i,ist_id) in enumerate(ids, start=1):\n",
        "            if progress and np.mod(i,np.ceil(n/10))==0:\n",
        "                print('%d/%d (%2.0f%s) have been read...\\t time consumed: %ds'\\\n",
        "                      %(i,n,i/n*100,'%',(datetime.now()-start).seconds))\n",
        "            if last_offset==0:\n",
        "                data[ist_id] = np.genfromtxt(path+str(ist_id)+'.csv',delimiter=',',\\\n",
        "                                         names='current,voltage',dtype=(float,float))\n",
        "            else:\n",
        "                p=subprocess.Popen(['tail','-'+str(int(last_offset)),path+str(ist_id)+'.csv'],\\\n",
        "                                   stdout=subprocess.PIPE)\n",
        "                data[ist_id] = np.genfromtxt(p.stdout,delimiter=',',names='current,voltage',dtype=(float,float))\n",
        "        print('%d/%d (%2.0f%s) have been read(Done!) \\t time consumed: %ds'\\\n",
        "            %(n,n,100,'%',(datetime.now()-start).seconds))\n",
        "        return data\n",
        "\n",
        "\n",
        "def clean_meta(ist):\n",
        "    '''remove None elements in Meta Data '''\n",
        "    clean_ist = ist.copy()\n",
        "    for k,v in ist.items():\n",
        "        if len(v) == 0:\n",
        "            del clean_ist[k]\n",
        "    return clean_ist\n",
        "\n",
        "def parse_meta(meta):\n",
        "    '''parse meta data for easy access'''\n",
        "    M = {}\n",
        "    for m in meta:\n",
        "        for app in m:\n",
        "            M[int(app['id'])] = clean_meta(app['meta'])\n",
        "    return M"
      ],
      "metadata": {
        "id": "tjL_mPI64RCo"
      },
      "execution_count": null,
      "outputs": []
    },
    {
      "cell_type": "code",
      "source": [
        "# specify path to read data and meta\n",
        "# Please make sure you downloaded latest dataset from plaidplug.com.\n",
        "Data_path = 'data/'\n",
        "csv_path = Data_path + 'CSV/';\n",
        "\n",
        "import json\n",
        "\n",
        "# read meta\n",
        "with open(Data_path + 'meta1.json') as data_file:\n",
        "    meta1 = json.load(data_file)\n",
        "\n",
        "\n",
        "Meta = parse_meta([meta1])\n",
        "meta1 = parse_meta([meta1])"
      ],
      "metadata": {
        "id": "NLCHL2004TC6"
      },
      "execution_count": null,
      "outputs": []
    },
    {
      "cell_type": "code",
      "source": [
        "# read data\n",
        "# applinace types of all instances\n",
        "Types = [x[\"appliance\"]['type'] for x in Meta.values()]\n",
        "# unique appliance types\n",
        "Unq_type = list(set(Types))\n",
        "Unq_type.sort()\n",
        "IDs_for_read_data = list(Meta.keys())\n",
        "# households of appliances\n",
        "Locs = [x['header']['collection_time']+'_'+x['location'] for x in Meta.values()]\n",
        "# unique households\n",
        "Unq_loc = list(set(Locs))\n",
        "Unq_loc.sort()\n",
        "Origianl_Unq_type = Unq_type"
      ],
      "metadata": {
        "id": "XJsmIRvw4U39"
      },
      "execution_count": null,
      "outputs": []
    },
    {
      "cell_type": "code",
      "source": [
        "print('Number of households: %d\\nNumber of total measurements:%d'%(len(Unq_loc),len(Locs)))"
      ],
      "metadata": {
        "colab": {
          "base_uri": "https://localhost:8080/"
        },
        "id": "PnDcoqfm4Wa6",
        "outputId": "106ca32b-e116-4f51-bb56-03e5ecec453a"
      },
      "execution_count": null,
      "outputs": [
        {
          "output_type": "stream",
          "name": "stdout",
          "text": [
            "Number of households: 64\n",
            "Number of total measurements:1793\n"
          ]
        }
      ]
    },
    {
      "cell_type": "code",
      "source": [
        "# read data\n",
        "# estimated time cost:  ~ 1 mins\n",
        "npts = 10000\n",
        "Data = read_data_given_id(csv_path,IDs_for_read_data,progress=True, last_offset=npts)"
      ],
      "metadata": {
        "colab": {
          "base_uri": "https://localhost:8080/"
        },
        "id": "fCODIpe_4YBq",
        "outputId": "5f2526cb-83d5-4079-c957-8b630adb90cb"
      },
      "execution_count": null,
      "outputs": [
        {
          "output_type": "stream",
          "name": "stdout",
          "text": [
            "180/1793 (10%) have been read...\t time consumed: 482s\n",
            "360/1793 (20%) have been read...\t time consumed: 1049s\n",
            "540/1793 (30%) have been read...\t time consumed: 1627s\n",
            "720/1793 (40%) have been read...\t time consumed: 2176s\n",
            "900/1793 (50%) have been read...\t time consumed: 2723s\n",
            "1080/1793 (60%) have been read...\t time consumed: 3264s\n",
            "1260/1793 (70%) have been read...\t time consumed: 3875s\n",
            "1440/1793 (80%) have been read...\t time consumed: 4446s\n",
            "1620/1793 (90%) have been read...\t time consumed: 5073s\n",
            "1793/1793 (100%) have been read(Done!) \t time consumed: 5674s\n"
          ]
        }
      ]
    },
    {
      "cell_type": "code",
      "source": [
        "print('Total number of instances:%d'%len(Data))"
      ],
      "metadata": {
        "colab": {
          "base_uri": "https://localhost:8080/"
        },
        "id": "n9g3Lz_44Z3r",
        "outputId": "19320c81-d339-4be3-84f8-2b3e1bc9235e"
      },
      "execution_count": null,
      "outputs": [
        {
          "output_type": "stream",
          "name": "stdout",
          "text": [
            "Total number of instances:1793\n"
          ]
        }
      ]
    },
    {
      "cell_type": "code",
      "source": [
        "fs = 30000\n",
        "f0 = 60\n",
        "NS = fs//f0 # number of samples per period\n",
        "NP = npts//NS # number of periods for npts\n",
        "\n",
        "# calculate the representative one period of steady state\n",
        "# (mean of the aggregated signals over one cycle)\n",
        "n = len(Data)\n",
        "rep_I = np.empty([n,NS])\n",
        "rep_V = np.empty([n,NS])\n",
        "for i in range(n):\n",
        "    tempI = np.sum(np.reshape(Data[i+1]['current'],[NP,NS]),0)/NP\n",
        "    tempV = np.sum(np.reshape(Data[i+1]['voltage'],[NP,NS]),0)/NP\n",
        "    # align current to make all samples start from 0 and goes up\n",
        "    ix = np.argsort(np.abs(tempI))\n",
        "    j = 0\n",
        "    while True:\n",
        "        if ix[j]<499 and tempI[ix[j]+1]>tempI[ix[j]]:\n",
        "            real_ix = ix[j]\n",
        "            break\n",
        "        else:\n",
        "            j += 1\n",
        "    rep_I[i,] = np.hstack([tempI[real_ix:],tempI[:real_ix]])\n",
        "    rep_V[i,] = np.hstack([tempV[real_ix:],tempV[:real_ix]])"
      ],
      "metadata": {
        "id": "VRFxxjCm4bxy"
      },
      "execution_count": null,
      "outputs": []
    },
    {
      "cell_type": "code",
      "source": [
        "type_Ids = {}\n",
        "loc_Ids = {}\n",
        "n = len(Data)\n",
        "type_label = np.zeros(n,dtype='int')\n",
        "loc_label = np.zeros(n,dtype='int')\n",
        "for (ii,t) in enumerate(Unq_type):\n",
        "    type_Ids[t] = [i-1 for i,j in enumerate(Types,start=1) if j == t]\n",
        "    type_label[type_Ids[t]] = ii+1\n",
        "for (ii,t) in enumerate(Unq_loc):\n",
        "    loc_Ids[t] = [i-1 for i,j in enumerate(Locs,start=1) if j == t]\n",
        "    loc_label[loc_Ids[t]] = ii+1\n",
        "print('number of different types: %d'% len(Unq_type))\n",
        "print('number of different households: %d'% len(Unq_loc))"
      ],
      "metadata": {
        "colab": {
          "base_uri": "https://localhost:8080/"
        },
        "id": "K_xLPtpJ4dqb",
        "outputId": "6a5b559b-de3f-4bef-cbdd-5ce57f642270"
      },
      "execution_count": null,
      "outputs": [
        {
          "output_type": "stream",
          "name": "stdout",
          "text": [
            "number of different types: 11\n",
            "number of different households: 64\n"
          ]
        }
      ]
    },
    {
      "cell_type": "code",
      "source": [
        "plt.hist(type_label,len(Unq_type))\n",
        "plt.title('distirbution of instances for each type')\n",
        "print(Origianl_Unq_type)\n",
        "print('Similified verstion:')\n",
        "Unq_type[0]='AC';\n",
        "Unq_type[1]='CFL';\n",
        "Unq_type[6]='Bulb';\n",
        "Unq_type[10]='Washer';\n",
        "print(Unq_type)\n",
        "plt.savefig('type_dist.eps', format='eps')"
      ],
      "metadata": {
        "colab": {
          "base_uri": "https://localhost:8080/",
          "height": 621
        },
        "id": "Kj__bNVr4gs7",
        "outputId": "8852fd49-df39-4886-d6dd-c92ba3c24bcb"
      },
      "execution_count": null,
      "outputs": [
        {
          "output_type": "stream",
          "name": "stdout",
          "text": [
            "['Air Conditioner', 'Compact Fluorescent Lamp', 'Fan', 'Fridge', 'Hairdryer', 'Heater', 'Incandescent Light Bulb', 'Laptop', 'Microwave', 'Vacuum', 'Washing Machine']\n",
            "Similified verstion:\n",
            "['AC', 'CFL', 'Fan', 'Fridge', 'Hairdryer', 'Heater', 'Bulb', 'Laptop', 'Microwave', 'Vacuum', 'Washer']\n"
          ]
        },
        {
          "output_type": "display_data",
          "data": {
            "text/plain": [
              "<Figure size 1000x600 with 1 Axes>"
            ],
            "image/png": "[encoded data removed]"
          },
          "metadata": {}
        }
      ]
    },
    {
      "cell_type": "code",
      "source": [
        "plt.hist(loc_label,len(Unq_loc))\n",
        "plt.title('distirbution of instances for each household')\n",
        "plt.savefig('house_dist.eps', format='eps')"
      ],
      "metadata": {
        "colab": {
          "base_uri": "https://localhost:8080/",
          "height": 567
        },
        "id": "8N4_AKBJ4iAC",
        "outputId": "10a3bf2a-71f0-4a71-ca60-a38e09a04d2a"
      },
      "execution_count": null,
      "outputs": [
        {
          "output_type": "display_data",
          "data": {
            "text/plain": [
              "<Figure size 1000x600 with 1 Axes>"
            ],
            "image/png": "[encoded data removed]"
          },
          "metadata": {}
        }
      ]
    },
    {
      "cell_type": "code",
      "source": [
        "def center(X,w):\n",
        "    minX = np.amin(X)\n",
        "    maxX = np.amax(X)\n",
        "    dist = max(abs(minX),maxX)\n",
        "    X[X<-dist] = -dist\n",
        "    X[X>dist] = dist\n",
        "    d = (maxX-minX)/w\n",
        "    return (X,d)\n",
        "\n",
        "def get_img_from_VI(V, I, width,hard_threshold=False,para=.5):\n",
        "    '''Get images from VI, hard_threshold, set para as threshold to cut off,5-10\n",
        "    soft_threshold, set para to .1-.5 to shrink the intensity'''\n",
        "\n",
        "    d = V.shape[0]\n",
        "    # doing interploation if number of points is less than width*2\n",
        "    if d<2* width:\n",
        "        newI = np.hstack([V, V[0]])\n",
        "        newV = np.hstack([I, I[0]])\n",
        "        oldt = np.linspace(0,d,d+1)\n",
        "        newt = np.linspace(0,d,2*width)\n",
        "        I = np.interp(newt,oldt,newI)\n",
        "        V = np.interp(newt,oldt,newV)\n",
        "    # center the current and voltage, get the size resolution of mesh given width\n",
        "    (I,d_c)  = center(I,width)\n",
        "    (V,d_v)  = center(V,width)\n",
        "\n",
        "    #  find the index where the VI goes through in current-voltage axis\n",
        "    ind_c = np.floor((I-np.amin(I))/d_c).astype(int)\n",
        "    ind_v = np.floor((V-np.amin(V))/d_v).astype(int)\n",
        "    ind_c[ind_c==width] = width-1\n",
        "    ind_v[ind_v==width] = width-1\n",
        "\n",
        "    Img = np.zeros((width,width))\n",
        "\n",
        "    for i in range(len(I)):\n",
        "        Img[ind_c[i],width-ind_v[i]-1] += 1\n",
        "\n",
        "    if hard_threshold:\n",
        "        Img[Img<para] = 0\n",
        "        Img[Img!=0] = 1\n",
        "        return Img\n",
        "    else:\n",
        "        return (Img/np.max(Img))**para"
      ],
      "metadata": {
        "id": "h89059-TNMeQ"
      },
      "execution_count": null,
      "outputs": []
    },
    {
      "cell_type": "code",
      "source": [
        "n = len(Data)\n",
        "width = 16\n",
        "\n",
        "Imgs = np.zeros((n,width,width), dtype=np.float64)\n",
        "for i in range(n):\n",
        "    Imgs[i,:,:] = get_img_from_VI(rep_V[i,], rep_I[i,], width,True,1)\n",
        "BinaryF=np.reshape(Imgs,(n,width*width))"
      ],
      "metadata": {
        "id": "_dyCdwFZORbK"
      },
      "execution_count": null,
      "outputs": []
    },
    {
      "cell_type": "code",
      "source": [
        "i"
      ],
      "metadata": {
        "colab": {
          "base_uri": "https://localhost:8080/"
        },
        "id": "CWn3ULrOPvOk",
        "outputId": "d5a0a675-7987-4919-8387-74067e5eec6a"
      },
      "execution_count": null,
      "outputs": [
        {
          "output_type": "execute_result",
          "data": {
            "text/plain": [
              "1792"
            ]
          },
          "metadata": {},
          "execution_count": 18
        }
      ]
    },
    {
      "cell_type": "code",
      "source": [
        "np.array([Imgs[13,:,:]]).shape"
      ],
      "metadata": {
        "colab": {
          "base_uri": "https://localhost:8080/"
        },
        "id": "WQs9RLuEP7u2",
        "outputId": "01ce81d5-8e49-4fe9-a7ec-8c0e9994d205"
      },
      "execution_count": null,
      "outputs": [
        {
          "output_type": "execute_result",
          "data": {
            "text/plain": [
              "(1, 16, 16)"
            ]
          },
          "metadata": {},
          "execution_count": 19
        }
      ]
    },
    {
      "cell_type": "code",
      "source": [
        " plt.imshow(Imgs[13,:,:],cmap = cm.Greys_r,interpolation='None')"
      ],
      "metadata": {
        "colab": {
          "base_uri": "https://localhost:8080/",
          "height": 550
        },
        "id": "LRrDBevxPoPb",
        "outputId": "44d494eb-e881-4937-cdaa-e58972a32d92"
      },
      "execution_count": null,
      "outputs": [
        {
          "output_type": "execute_result",
          "data": {
            "text/plain": [
              "<matplotlib.image.AxesImage at 0x79a2750269e0>"
            ]
          },
          "metadata": {},
          "execution_count": 20
        },
        {
          "output_type": "display_data",
          "data": {
            "text/plain": [
              "<Figure size 1000x600 with 1 Axes>"
            ],
            "image/png": "[encoded data removed]"
          },
          "metadata": {}
        }
      ]
    },
    {
      "cell_type": "code",
      "source": [
        "Imgs2 = [[x] for x in Imgs]\n",
        "np.array(Imgs2).shape"
      ],
      "metadata": {
        "colab": {
          "base_uri": "https://localhost:8080/"
        },
        "id": "3ZRy7FtHMwOj",
        "outputId": "f3d0d49b-379a-4e19-8c89-5edfb01d1057"
      },
      "execution_count": null,
      "outputs": [
        {
          "output_type": "execute_result",
          "data": {
            "text/plain": [
              "(1793, 1, 16, 16)"
            ]
          },
          "metadata": {},
          "execution_count": 21
        }
      ]
    },
    {
      "cell_type": "code",
      "source": [
        "Imgs[:split_id].shape"
      ],
      "metadata": {
        "colab": {
          "base_uri": "https://localhost:8080/",
          "height": 181
        },
        "id": "hZGnoxdMMjOz",
        "outputId": "26d3a1ee-4a92-4d47-f222-091ae05f3f83"
      },
      "execution_count": null,
      "outputs": [
        {
          "output_type": "error",
          "ename": "NameError",
          "evalue": "ignored",
          "traceback": [
            "\u001b[0;31m---------------------------------------------------------------------------\u001b[0m",
            "\u001b[0;31mNameError\u001b[0m                                 Traceback (most recent call last)",
            "\u001b[0;32m<ipython-input-22-af3b8f3dfe44>\u001b[0m in \u001b[0;36m<cell line: 1>\u001b[0;34m()\u001b[0m\n\u001b[0;32m----> 1\u001b[0;31m \u001b[0mImgs\u001b[0m\u001b[0;34m[\u001b[0m\u001b[0;34m:\u001b[0m\u001b[0msplit_id\u001b[0m\u001b[0;34m]\u001b[0m\u001b[0;34m.\u001b[0m\u001b[0mshape\u001b[0m\u001b[0;34m\u001b[0m\u001b[0;34m\u001b[0m\u001b[0m\n\u001b[0m",
            "\u001b[0;31mNameError\u001b[0m: name 'split_id' is not defined"
          ]
        }
      ]
    },
    {
      "cell_type": "code",
      "source": [
        "np.unique(type_label -1)"
      ],
      "metadata": {
        "colab": {
          "base_uri": "https://localhost:8080/"
        },
        "id": "kPMNacMQHnL3",
        "outputId": "0112aa82-c2f7-4c41-d215-26f6863017e9"
      },
      "execution_count": null,
      "outputs": [
        {
          "output_type": "execute_result",
          "data": {
            "text/plain": [
              "array([ 0,  1,  2,  3,  4,  5,  6,  7,  8,  9, 10])"
            ]
          },
          "metadata": {},
          "execution_count": 56
        }
      ]
    },
    {
      "cell_type": "code",
      "source": [
        "# we use 70%, 15%, 15% for train, validation, and test sets\n",
        "train_size = .7\n",
        "val_size = .5\n",
        "labels = type_label - 1\n",
        "\n",
        "# make train set\n",
        "split_id = int(len(Imgs2) * train_size)\n",
        "train_x, remain_x = np.float32(Imgs2[:split_id]), np.float32(Imgs2[split_id:])\n",
        "train_y, remain_y = np.intc(labels[:split_id]), np.intc(labels[split_id:])\n",
        "\n",
        "# make val and test set\n",
        "split_val_id = int(len(remain_x) * val_size)\n",
        "val_x, test_x = remain_x[:split_val_id], remain_x[split_val_id:]\n",
        "val_y, test_y = remain_y[:split_val_id], remain_y[split_val_id:]\n",
        "\n",
        "# print out the shape\n",
        "print('Train set: {}'.format(train_x.shape))\n",
        "print('Validation set: {}'.format(val_x.shape))\n",
        "print('Test set: {}'.format(test_x.shape))"
      ],
      "metadata": {
        "colab": {
          "base_uri": "https://localhost:8080/"
        },
        "id": "9XgyXTd7FASv",
        "outputId": "85806b9f-5870-4271-e2fc-1a889fd9ef56"
      },
      "execution_count": null,
      "outputs": [
        {
          "output_type": "stream",
          "name": "stdout",
          "text": [
            "Train set: (1255, 1, 16, 16)\n",
            "Validation set: (269, 1, 16, 16)\n",
            "Test set: (269, 1, 16, 16)\n"
          ]
        }
      ]
    },
    {
      "cell_type": "code",
      "source": [
        "type(train_y)"
      ],
      "metadata": {
        "colab": {
          "base_uri": "https://localhost:8080/"
        },
        "id": "cNCrnylRLRXX",
        "outputId": "55e7e8bd-2d49-49e7-8f4a-0496a990e067"
      },
      "execution_count": null,
      "outputs": [
        {
          "output_type": "execute_result",
          "data": {
            "text/plain": [
              "numpy.ndarray"
            ]
          },
          "metadata": {},
          "execution_count": 74
        }
      ]
    },
    {
      "cell_type": "code",
      "source": [
        "train_y"
      ],
      "metadata": {
        "colab": {
          "base_uri": "https://localhost:8080/"
        },
        "id": "CVTN68UPICs-",
        "outputId": "bfd2fe42-9401-4633-8ad7-632404b92b99"
      },
      "execution_count": null,
      "outputs": [
        {
          "output_type": "execute_result",
          "data": {
            "text/plain": [
              "array([ 1,  1,  1, ..., 10,  1,  1], dtype=int32)"
            ]
          },
          "metadata": {},
          "execution_count": 76
        }
      ]
    },
    {
      "cell_type": "code",
      "source": [
        "class MyDataset(torch.utils.data.Dataset):\n",
        "    def __init__(self, imgs, labels):\n",
        "        self.data = torch.utils.data.TensorDataset(torch.from_numpy(imgs), torch.from_numpy(labels).long())\n",
        "\n",
        "    def __len__(self):\n",
        "        return len(self.data)\n",
        "\n",
        "    def __getitem__(self, index):\n",
        "        img = self.data[index][0]\n",
        "        label = self.data[index][1]\n",
        "\n",
        "        return {'img': img, 'label': label}\n",
        "\n",
        "\n",
        "train_set = MyDataset(train_x, train_y)\n",
        "val_set = MyDataset(val_x, val_y)\n",
        "test_set = MyDataset(test_x, test_y)\n",
        "\n",
        "train_loader = torch.utils.data.DataLoader(train_set, shuffle=True, batch_size=128)\n",
        "val_loader = torch.utils.data.DataLoader(val_set, shuffle=True, batch_size=128)\n",
        "test_loader = torch.utils.data.DataLoader(test_set, shuffle=True, batch_size=128)"
      ],
      "metadata": {
        "id": "kEJgHdXpH-do"
      },
      "execution_count": null,
      "outputs": []
    },
    {
      "cell_type": "code",
      "source": [
        "dataiter = iter(train_loader)\n",
        "x = next(dataiter)\n",
        "\n",
        "x['img'].shape"
      ],
      "metadata": {
        "colab": {
          "base_uri": "https://localhost:8080/"
        },
        "id": "B0k9c9TwIxDe",
        "outputId": "59654d5c-b762-4696-a276-2995d87c78ae"
      },
      "execution_count": null,
      "outputs": [
        {
          "output_type": "execute_result",
          "data": {
            "text/plain": [
              "torch.Size([128, 1, 16, 16])"
            ]
          },
          "metadata": {},
          "execution_count": 84
        }
      ]
    },
    {
      "cell_type": "code",
      "source": [
        "(128x6272 and 21632x10)\n",
        "(128x6272 and 21632x10)"
      ],
      "metadata": {
        "colab": {
          "base_uri": "https://localhost:8080/"
        },
        "id": "JOtFulXUJMLg",
        "outputId": "65f38738-44f0-4443-b720-bf3b683d357c"
      },
      "execution_count": null,
      "outputs": [
        {
          "output_type": "stream",
          "name": "stdout",
          "text": [
            "Running on torch.__version__ =  2.1.0+cu118\n"
          ]
        }
      ]
    },
    {
      "cell_type": "code",
      "source": [
        "class MyNetwork(nn.Module):\n",
        "    def __init__(self):\n",
        "        super(MyNetwork, self).__init__()\n",
        "        self.conv1 = nn.Conv2d(1, 16, kernel_size=3, stride=1, padding=1)\n",
        "        self.relu1 = nn.ReLU()\n",
        "        self.pool1 = nn.MaxPool2d(kernel_size=2, stride=1)\n",
        "        self.conv2 = nn.Conv2d(16, 32, kernel_size=3, stride=1, padding=1)\n",
        "        self.relu2 = nn.ReLU()\n",
        "        self.pool2 = nn.MaxPool2d(kernel_size=2, stride=1)\n",
        "        self.fc = nn.Linear(6272, 11)\n",
        "\n",
        "\n",
        "\n",
        "    def forward(self, input_dict):\n",
        "        x = self.conv1(input_dict['img'])\n",
        "        print(1)\n",
        "        x = self.relu1(x)\n",
        "        print(2)\n",
        "        x = self.pool1(x)\n",
        "        print(3)\n",
        "        x = self.conv2(x)\n",
        "        print(4)\n",
        "        x = self.relu2(x)\n",
        "        print(5)\n",
        "        x = self.pool2(x)\n",
        "        x = x.view(x.size(0), -1)\n",
        "        print(6)\n",
        "        x = self.fc(x)\n",
        "        pred_label = nn.functional.log_softmax(x, dim=1)\n",
        "\n",
        "        return {'label': pred_label}"
      ],
      "metadata": {
        "id": "SglPWUuwJEfG"
      },
      "execution_count": null,
      "outputs": []
    },
    {
      "cell_type": "code",
      "source": [
        "network = MyNetwork()\n",
        "print(network)"
      ],
      "metadata": {
        "colab": {
          "base_uri": "https://localhost:8080/"
        },
        "id": "4lGisICdJdDK",
        "outputId": "a17e8ea3-11fa-43a1-c7c1-de4e33e4553f"
      },
      "execution_count": null,
      "outputs": [
        {
          "output_type": "stream",
          "name": "stdout",
          "text": [
            "MyNetwork(\n",
            "  (conv1): Conv2d(1, 16, kernel_size=(3, 3), stride=(1, 1), padding=(1, 1))\n",
            "  (relu1): ReLU()\n",
            "  (pool1): MaxPool2d(kernel_size=2, stride=1, padding=0, dilation=1, ceil_mode=False)\n",
            "  (conv2): Conv2d(16, 32, kernel_size=(3, 3), stride=(1, 1), padding=(1, 1))\n",
            "  (relu2): ReLU()\n",
            "  (pool2): MaxPool2d(kernel_size=2, stride=1, padding=0, dilation=1, ceil_mode=False)\n",
            "  (fc): Linear(in_features=6272, out_features=11, bias=True)\n",
            ")\n"
          ]
        }
      ]
    },
    {
      "cell_type": "code",
      "source": [
        "# a function to move tensors from the CPU to the GPU and vice versa\n",
        "def dict_to_device(orig, device):\n",
        "    new = {}\n",
        "    for k,v in orig.items():\n",
        "        new[k] = v.to(device)\n",
        "    return new\n",
        "\n",
        "# a function to make gray-scale images the same shape as color images\n",
        "def gray_to_color(x):\n",
        "    return x.repeat(3, 1, 1)\n",
        "\n",
        "# a function to plot a batch of images together\n",
        "def plot_images(img, ax):\n",
        "    img = torchvision.utils.make_grid(img)\n",
        "    npimg = img.numpy()\n",
        "    ax.imshow(np.transpose(npimg, (1, 2, 0)))"
      ],
      "metadata": {
        "id": "GOMQQ3RNJ2pM"
      },
      "execution_count": null,
      "outputs": []
    },
    {
      "cell_type": "code",
      "source": [
        "CUDA_LAUNCH_BLOCKING=\"1\""
      ],
      "metadata": {
        "id": "bAzC3anNZw7g"
      },
      "execution_count": null,
      "outputs": []
    },
    {
      "cell_type": "code",
      "source": [
        "# training loop\n",
        "%matplotlib inline\n",
        "from IPython import display\n",
        "\n",
        "# prepare plotting\n",
        "fig = plt.figure(figsize=(20, 5), dpi= 80, facecolor='w', edgecolor='k')\n",
        "axes = fig.subplots(1,3)\n",
        "\n",
        "optimizer = torch.optim.Adam(network.parameters(), lr=0.001)\n",
        "\n",
        "num_epochs = 5\n",
        "train_losses = []\n",
        "val_losses = []\n",
        "\n",
        "for e in range(num_epochs):\n",
        "    train_iter = iter(train_loader)\n",
        "    network.train()\n",
        "    for i in range(len(train_loader)):\n",
        "        batch_cpu = next(train_iter)\n",
        "        #batch_gpu = dict_to_device(batch_cpu, 'cuda')\n",
        "        pred = network(batch_cpu)\n",
        "        #pred_cpu = dict_to_device(pred, 'cpu')\n",
        "\n",
        "        # calculate the loss and backward the gradient\n",
        "        print(batch_cpu['label'].dtype)\n",
        "        loss = nn.CrossEntropyLoss()(pred['label'], batch_cpu['label'].long())\n",
        "        optimizer.zero_grad()\n",
        "        loss.backward()\n",
        "        optimizer.step()\n",
        "        train_losses.append(loss.item())\n",
        "\n",
        "        if i%100==0:\n",
        "            axes[0].cla()\n",
        "            axes[1].cla()\n",
        "\n",
        "            # plot some sample image inputs\n",
        "            plot_images(batch_cpu['image'][0:1], ax=axes[0])\n",
        "            axes[0].legend()\n",
        "            axes[0].set_title('sample input')\n",
        "\n",
        "            # plot the training error on a log plot\n",
        "            axes[1].plot(train_losses, label='loss')\n",
        "            axes[1].set_yscale('log')\n",
        "            axes[1].set_title('Training loss')\n",
        "            axes[1].set_xlabel('number of gradient iterations')\n",
        "            axes[1].legend()\n",
        "\n",
        "            # clear output window and diplay updated figure\n",
        "            display.clear_output(wait=True)\n",
        "            display.display(plt.gcf())\n",
        "            print(\"Training epoch {}, iteration {} of {} ({} %), loss={}\".format(e, i, len(train_loader), 100*i//len(train_loader), train_losses[-1]))\n",
        "\n",
        "    val_iter = iter(val_loader)\n",
        "    network.eval()\n",
        "    for i in range(len(val_loader)):\n",
        "        batch_cpu = next(val_iter)\n",
        "        batch_gpu = dict_to_device(batch_cpu, 'cuda')\n",
        "        pred = network(batch_gpu)\n",
        "        pred_cpu = dict_to_device(pred, 'cpu')\n",
        "\n",
        "        # calculate the loss\n",
        "        with torch.no_grad():\n",
        "            loss = nn.CrossEntropyLoss()(pred['label'], batch_gpu['label'])\n",
        "            val_losses.append(loss.item())\n",
        "\n",
        "        if i%10==0:\n",
        "            axes[2].cla()\n",
        "\n",
        "            # plot the validation error on a log plot\n",
        "            axes[2].plot(val_losses, label='loss')\n",
        "            axes[2].set_yscale('log')\n",
        "            axes[2].set_title('Validation loss')\n",
        "            axes[2].set_xlabel('number of gradient iterations')\n",
        "            axes[2].legend()\n",
        "\n",
        "            # clear output window and diplay updated figure\n",
        "            display.clear_output(wait=True)\n",
        "            display.display(plt.gcf())\n",
        "            print(\"Validation epoch {}, iteration {} of {} ({} %), loss={}\".format(e, i, len(val_loader), 100*i//len(val_loader), val_losses[-1]))\n",
        "plt.close('all')"
      ],
      "metadata": {
        "colab": {
          "base_uri": "https://localhost:8080/",
          "height": 253
        },
        "id": "m4hAlc5iJYvQ",
        "outputId": "1aaa14ca-e6a6-4c00-c3ed-4ae0391c0756"
      },
      "execution_count": null,
      "outputs": [
        {
          "output_type": "error",
          "ename": "NameError",
          "evalue": "ignored",
          "traceback": [
            "\u001b[0;31m---------------------------------------------------------------------------\u001b[0m",
            "\u001b[0;31mNameError\u001b[0m                                 Traceback (most recent call last)",
            "\u001b[0;32m<ipython-input-1-fbc5e61f2cf2>\u001b[0m in \u001b[0;36m<cell line: 6>\u001b[0;34m()\u001b[0m\n\u001b[1;32m      4\u001b[0m \u001b[0;34m\u001b[0m\u001b[0m\n\u001b[1;32m      5\u001b[0m \u001b[0;31m# prepare plotting\u001b[0m\u001b[0;34m\u001b[0m\u001b[0;34m\u001b[0m\u001b[0m\n\u001b[0;32m----> 6\u001b[0;31m \u001b[0mfig\u001b[0m \u001b[0;34m=\u001b[0m \u001b[0mplt\u001b[0m\u001b[0;34m.\u001b[0m\u001b[0mfigure\u001b[0m\u001b[0;34m(\u001b[0m\u001b[0mfigsize\u001b[0m\u001b[0;34m=\u001b[0m\u001b[0;34m(\u001b[0m\u001b[0;36m20\u001b[0m\u001b[0;34m,\u001b[0m \u001b[0;36m5\u001b[0m\u001b[0;34m)\u001b[0m\u001b[0;34m,\u001b[0m \u001b[0mdpi\u001b[0m\u001b[0;34m=\u001b[0m \u001b[0;36m80\u001b[0m\u001b[0;34m,\u001b[0m \u001b[0mfacecolor\u001b[0m\u001b[0;34m=\u001b[0m\u001b[0;34m'w'\u001b[0m\u001b[0;34m,\u001b[0m \u001b[0medgecolor\u001b[0m\u001b[0;34m=\u001b[0m\u001b[0;34m'k'\u001b[0m\u001b[0;34m)\u001b[0m\u001b[0;34m\u001b[0m\u001b[0;34m\u001b[0m\u001b[0m\n\u001b[0m\u001b[1;32m      7\u001b[0m \u001b[0maxes\u001b[0m \u001b[0;34m=\u001b[0m \u001b[0mfig\u001b[0m\u001b[0;34m.\u001b[0m\u001b[0msubplots\u001b[0m\u001b[0;34m(\u001b[0m\u001b[0;36m1\u001b[0m\u001b[0;34m,\u001b[0m\u001b[0;36m3\u001b[0m\u001b[0;34m)\u001b[0m\u001b[0;34m\u001b[0m\u001b[0;34m\u001b[0m\u001b[0m\n\u001b[1;32m      8\u001b[0m \u001b[0;34m\u001b[0m\u001b[0m\n",
            "\u001b[0;31mNameError\u001b[0m: name 'plt' is not defined"
          ]
        }
      ]
    },
    {
      "cell_type": "code",
      "source": [
        "n = sum(type_label==type_id)\n",
        "n"
      ],
      "metadata": {
        "colab": {
          "base_uri": "https://localhost:8080/"
        },
        "id": "hE6eLNSbOwhM",
        "outputId": "67ff0a80-3a77-4446-b201-5e2dc36bb660"
      },
      "execution_count": null,
      "outputs": [
        {
          "output_type": "execute_result",
          "data": {
            "text/plain": [
              "208"
            ]
          },
          "metadata": {},
          "execution_count": 28
        }
      ]
    },
    {
      "cell_type": "code",
      "source": [],
      "metadata": {
        "colab": {
          "base_uri": "https://localhost:8080/"
        },
        "id": "xiYnn3-8Hd5N",
        "outputId": "f34f959b-f354-4c80-d25f-0407895b2f25"
      },
      "execution_count": null,
      "outputs": [
        {
          "output_type": "execute_result",
          "data": {
            "text/plain": [
              "1"
            ]
          },
          "metadata": {},
          "execution_count": 26
        }
      ]
    },
    {
      "cell_type": "code",
      "source": [
        "np.where(type_label==1)[0]"
      ],
      "metadata": {
        "colab": {
          "base_uri": "https://localhost:8080/"
        },
        "id": "qbGoEkBYFg_W",
        "outputId": "4b582e93-ee32-4b28-c64f-208c906a85cd"
      },
      "execution_count": null,
      "outputs": [
        {
          "output_type": "execute_result",
          "data": {
            "text/plain": [
              "array([  14,   15,   16,   37,   38,   39,   82,   83,   84,   85,   86,\n",
              "        159,  160,  161,  162,  163,  287,  288,  289,  290,  291,  364,\n",
              "        365,  366,  367,  373,  374,  375,  376,  377,  393,  394,  395,\n",
              "        396,  397,  422,  423,  424,  425,  426,  427,  448,  449,  450,\n",
              "        451,  452,  512,  513,  514,  515,  516,  783,  784,  785,  786,\n",
              "        787,  984,  985,  986,  987,  988, 1005, 1006, 1007, 1008, 1009,\n",
              "       1104, 1105, 1106, 1107, 1108, 1109, 1110, 1111, 1112, 1113, 1114,\n",
              "       1115, 1116, 1117, 1118, 1119, 1120, 1121, 1122, 1123, 1124, 1125,\n",
              "       1126, 1127, 1128, 1129, 1130, 1131, 1132, 1133, 1134, 1135, 1136,\n",
              "       1137, 1138, 1139, 1140, 1141, 1142, 1143, 1315, 1316, 1317, 1318,\n",
              "       1319, 1320, 1321, 1322, 1323, 1324, 1325, 1326, 1327, 1328, 1329,\n",
              "       1330, 1331, 1332, 1333, 1334, 1462, 1463, 1464, 1465, 1466, 1467,\n",
              "       1468, 1469, 1470, 1471, 1472, 1473, 1474, 1475, 1476, 1477, 1478,\n",
              "       1479, 1480, 1550, 1551, 1552, 1553, 1554, 1555, 1556, 1557, 1558,\n",
              "       1559, 1560, 1561, 1562, 1563, 1564, 1565, 1566, 1567, 1568, 1634,\n",
              "       1635, 1636, 1637, 1638, 1639, 1640, 1641, 1642, 1643, 1644, 1645,\n",
              "       1646, 1647, 1648, 1649, 1650, 1651, 1652, 1653, 1654, 1655, 1656,\n",
              "       1657, 1658, 1659, 1660, 1661, 1662, 1663, 1664, 1665, 1666, 1667,\n",
              "       1668, 1669, 1670, 1671, 1672, 1673, 1674, 1675, 1676, 1677])"
            ]
          },
          "metadata": {},
          "execution_count": 27
        }
      ]
    },
    {
      "cell_type": "code",
      "source": [
        "# visualization of all imgaes from certain type in Imgs\n",
        "type_id = 1\n",
        "n = sum(type_label==type_id)\n",
        "fig = plt.figure(figsize=(14,np.ceil(int(n//15))))\n",
        "count = 1\n",
        "for i in np.where(type_label==type_id)[0]:\n",
        "    plt.subplot(np.ceil(int(n//10)),15,count)\n",
        "    plt.imshow(Imgs[i,:,:],cmap = cm.Greys_r,interpolation='None')\n",
        "    plt.gca().xaxis.set_major_locator(plt.NullLocator())\n",
        "    plt.gca().yaxis.set_major_locator(plt.NullLocator())\n",
        "#     plt.title('Id: '+str(k),fontsize=10)\n",
        "    count += 1\n",
        "fig.tight_layout()\n",
        "plt.show()"
      ],
      "metadata": {
        "colab": {
          "base_uri": "https://localhost:8080/",
          "height": 419
        },
        "id": "4Fz4I86rOTfx",
        "outputId": "c541b664-c8a2-4628-9c73-e739b7f26bd9"
      },
      "execution_count": null,
      "outputs": [
        {
          "output_type": "error",
          "ename": "ValueError",
          "evalue": "ignored",
          "traceback": [
            "\u001b[0;31m---------------------------------------------------------------------------\u001b[0m",
            "\u001b[0;31mValueError\u001b[0m                                Traceback (most recent call last)",
            "\u001b[0;32m<ipython-input-30-a4ded67ead6a>\u001b[0m in \u001b[0;36m<cell line: 6>\u001b[0;34m()\u001b[0m\n\u001b[1;32m      5\u001b[0m \u001b[0mcount\u001b[0m \u001b[0;34m=\u001b[0m \u001b[0;36m1\u001b[0m\u001b[0;34m\u001b[0m\u001b[0;34m\u001b[0m\u001b[0m\n\u001b[1;32m      6\u001b[0m \u001b[0;32mfor\u001b[0m \u001b[0mi\u001b[0m \u001b[0;32min\u001b[0m \u001b[0mnp\u001b[0m\u001b[0;34m.\u001b[0m\u001b[0mwhere\u001b[0m\u001b[0;34m(\u001b[0m\u001b[0mtype_label\u001b[0m\u001b[0;34m==\u001b[0m\u001b[0mtype_id\u001b[0m\u001b[0;34m)\u001b[0m\u001b[0;34m[\u001b[0m\u001b[0;36m0\u001b[0m\u001b[0;34m]\u001b[0m\u001b[0;34m:\u001b[0m\u001b[0;34m\u001b[0m\u001b[0;34m\u001b[0m\u001b[0m\n\u001b[0;32m----> 7\u001b[0;31m     \u001b[0mplt\u001b[0m\u001b[0;34m.\u001b[0m\u001b[0msubplot\u001b[0m\u001b[0;34m(\u001b[0m\u001b[0mnp\u001b[0m\u001b[0;34m.\u001b[0m\u001b[0mceil\u001b[0m\u001b[0;34m(\u001b[0m\u001b[0mint\u001b[0m\u001b[0;34m(\u001b[0m\u001b[0mn\u001b[0m\u001b[0;34m//\u001b[0m\u001b[0;36m10\u001b[0m\u001b[0;34m)\u001b[0m\u001b[0;34m)\u001b[0m\u001b[0;34m,\u001b[0m\u001b[0;36m15\u001b[0m\u001b[0;34m,\u001b[0m\u001b[0mcount\u001b[0m\u001b[0;34m)\u001b[0m\u001b[0;34m\u001b[0m\u001b[0;34m\u001b[0m\u001b[0m\n\u001b[0m\u001b[1;32m      8\u001b[0m     \u001b[0mplt\u001b[0m\u001b[0;34m.\u001b[0m\u001b[0mimshow\u001b[0m\u001b[0;34m(\u001b[0m\u001b[0mImgs\u001b[0m\u001b[0;34m[\u001b[0m\u001b[0mi\u001b[0m\u001b[0;34m,\u001b[0m\u001b[0;34m:\u001b[0m\u001b[0;34m,\u001b[0m\u001b[0;34m:\u001b[0m\u001b[0;34m]\u001b[0m\u001b[0;34m,\u001b[0m\u001b[0mcmap\u001b[0m \u001b[0;34m=\u001b[0m \u001b[0mcm\u001b[0m\u001b[0;34m.\u001b[0m\u001b[0mGreys_r\u001b[0m\u001b[0;34m,\u001b[0m\u001b[0minterpolation\u001b[0m\u001b[0;34m=\u001b[0m\u001b[0;34m'None'\u001b[0m\u001b[0;34m)\u001b[0m\u001b[0;34m\u001b[0m\u001b[0;34m\u001b[0m\u001b[0m\n\u001b[1;32m      9\u001b[0m     \u001b[0mplt\u001b[0m\u001b[0;34m.\u001b[0m\u001b[0mgca\u001b[0m\u001b[0;34m(\u001b[0m\u001b[0;34m)\u001b[0m\u001b[0;34m.\u001b[0m\u001b[0mxaxis\u001b[0m\u001b[0;34m.\u001b[0m\u001b[0mset_major_locator\u001b[0m\u001b[0;34m(\u001b[0m\u001b[0mplt\u001b[0m\u001b[0;34m.\u001b[0m\u001b[0mNullLocator\u001b[0m\u001b[0;34m(\u001b[0m\u001b[0;34m)\u001b[0m\u001b[0;34m)\u001b[0m\u001b[0;34m\u001b[0m\u001b[0;34m\u001b[0m\u001b[0m\n",
            "\u001b[0;32m/usr/local/lib/python3.10/dist-packages/matplotlib/pyplot.py\u001b[0m in \u001b[0;36msubplot\u001b[0;34m(*args, **kwargs)\u001b[0m\n\u001b[1;32m   1321\u001b[0m \u001b[0;34m\u001b[0m\u001b[0m\n\u001b[1;32m   1322\u001b[0m     \u001b[0;31m# First, search for an existing subplot with a matching spec.\u001b[0m\u001b[0;34m\u001b[0m\u001b[0;34m\u001b[0m\u001b[0m\n\u001b[0;32m-> 1323\u001b[0;31m     \u001b[0mkey\u001b[0m \u001b[0;34m=\u001b[0m \u001b[0mSubplotSpec\u001b[0m\u001b[0;34m.\u001b[0m\u001b[0m_from_subplot_args\u001b[0m\u001b[0;34m(\u001b[0m\u001b[0mfig\u001b[0m\u001b[0;34m,\u001b[0m \u001b[0margs\u001b[0m\u001b[0;34m)\u001b[0m\u001b[0;34m\u001b[0m\u001b[0;34m\u001b[0m\u001b[0m\n\u001b[0m\u001b[1;32m   1324\u001b[0m \u001b[0;34m\u001b[0m\u001b[0m\n\u001b[1;32m   1325\u001b[0m     \u001b[0;32mfor\u001b[0m \u001b[0max\u001b[0m \u001b[0;32min\u001b[0m \u001b[0mfig\u001b[0m\u001b[0;34m.\u001b[0m\u001b[0maxes\u001b[0m\u001b[0;34m:\u001b[0m\u001b[0;34m\u001b[0m\u001b[0;34m\u001b[0m\u001b[0m\n",
            "\u001b[0;32m/usr/local/lib/python3.10/dist-packages/matplotlib/gridspec.py\u001b[0m in \u001b[0;36m_from_subplot_args\u001b[0;34m(figure, args)\u001b[0m\n\u001b[1;32m    585\u001b[0m             \u001b[0;32mraise\u001b[0m \u001b[0m_api\u001b[0m\u001b[0;34m.\u001b[0m\u001b[0mnargs_error\u001b[0m\u001b[0;34m(\u001b[0m\u001b[0;34m\"subplot\"\u001b[0m\u001b[0;34m,\u001b[0m \u001b[0mtakes\u001b[0m\u001b[0;34m=\u001b[0m\u001b[0;34m\"1 or 3\"\u001b[0m\u001b[0;34m,\u001b[0m \u001b[0mgiven\u001b[0m\u001b[0;34m=\u001b[0m\u001b[0mlen\u001b[0m\u001b[0;34m(\u001b[0m\u001b[0margs\u001b[0m\u001b[0;34m)\u001b[0m\u001b[0;34m)\u001b[0m\u001b[0;34m\u001b[0m\u001b[0;34m\u001b[0m\u001b[0m\n\u001b[1;32m    586\u001b[0m \u001b[0;34m\u001b[0m\u001b[0m\n\u001b[0;32m--> 587\u001b[0;31m         \u001b[0mgs\u001b[0m \u001b[0;34m=\u001b[0m \u001b[0mGridSpec\u001b[0m\u001b[0;34m.\u001b[0m\u001b[0m_check_gridspec_exists\u001b[0m\u001b[0;34m(\u001b[0m\u001b[0mfigure\u001b[0m\u001b[0;34m,\u001b[0m \u001b[0mrows\u001b[0m\u001b[0;34m,\u001b[0m \u001b[0mcols\u001b[0m\u001b[0;34m)\u001b[0m\u001b[0;34m\u001b[0m\u001b[0;34m\u001b[0m\u001b[0m\n\u001b[0m\u001b[1;32m    588\u001b[0m         \u001b[0;32mif\u001b[0m \u001b[0mgs\u001b[0m \u001b[0;32mis\u001b[0m \u001b[0;32mNone\u001b[0m\u001b[0;34m:\u001b[0m\u001b[0;34m\u001b[0m\u001b[0;34m\u001b[0m\u001b[0m\n\u001b[1;32m    589\u001b[0m             \u001b[0mgs\u001b[0m \u001b[0;34m=\u001b[0m \u001b[0mGridSpec\u001b[0m\u001b[0;34m(\u001b[0m\u001b[0mrows\u001b[0m\u001b[0;34m,\u001b[0m \u001b[0mcols\u001b[0m\u001b[0;34m,\u001b[0m \u001b[0mfigure\u001b[0m\u001b[0;34m=\u001b[0m\u001b[0mfigure\u001b[0m\u001b[0;34m)\u001b[0m\u001b[0;34m\u001b[0m\u001b[0;34m\u001b[0m\u001b[0m\n",
            "\u001b[0;32m/usr/local/lib/python3.10/dist-packages/matplotlib/gridspec.py\u001b[0m in \u001b[0;36m_check_gridspec_exists\u001b[0;34m(figure, nrows, ncols)\u001b[0m\n\u001b[1;32m    224\u001b[0m                     \u001b[0;32mreturn\u001b[0m \u001b[0mgs\u001b[0m\u001b[0;34m\u001b[0m\u001b[0;34m\u001b[0m\u001b[0m\n\u001b[1;32m    225\u001b[0m         \u001b[0;31m# else gridspec not found:\u001b[0m\u001b[0;34m\u001b[0m\u001b[0;34m\u001b[0m\u001b[0m\n\u001b[0;32m--> 226\u001b[0;31m         \u001b[0;32mreturn\u001b[0m \u001b[0mGridSpec\u001b[0m\u001b[0;34m(\u001b[0m\u001b[0mnrows\u001b[0m\u001b[0;34m,\u001b[0m \u001b[0mncols\u001b[0m\u001b[0;34m,\u001b[0m \u001b[0mfigure\u001b[0m\u001b[0;34m=\u001b[0m\u001b[0mfigure\u001b[0m\u001b[0;34m)\u001b[0m\u001b[0;34m\u001b[0m\u001b[0;34m\u001b[0m\u001b[0m\n\u001b[0m\u001b[1;32m    227\u001b[0m \u001b[0;34m\u001b[0m\u001b[0m\n\u001b[1;32m    228\u001b[0m     \u001b[0;32mdef\u001b[0m \u001b[0m__getitem__\u001b[0m\u001b[0;34m(\u001b[0m\u001b[0mself\u001b[0m\u001b[0;34m,\u001b[0m \u001b[0mkey\u001b[0m\u001b[0;34m)\u001b[0m\u001b[0;34m:\u001b[0m\u001b[0;34m\u001b[0m\u001b[0;34m\u001b[0m\u001b[0m\n",
            "\u001b[0;32m/usr/local/lib/python3.10/dist-packages/matplotlib/gridspec.py\u001b[0m in \u001b[0;36m__init__\u001b[0;34m(self, nrows, ncols, figure, left, bottom, right, top, wspace, hspace, width_ratios, height_ratios)\u001b[0m\n\u001b[1;32m    377\u001b[0m         \u001b[0mself\u001b[0m\u001b[0;34m.\u001b[0m\u001b[0mfigure\u001b[0m \u001b[0;34m=\u001b[0m \u001b[0mfigure\u001b[0m\u001b[0;34m\u001b[0m\u001b[0;34m\u001b[0m\u001b[0m\n\u001b[1;32m    378\u001b[0m \u001b[0;34m\u001b[0m\u001b[0m\n\u001b[0;32m--> 379\u001b[0;31m         super().__init__(nrows, ncols,\n\u001b[0m\u001b[1;32m    380\u001b[0m                          \u001b[0mwidth_ratios\u001b[0m\u001b[0;34m=\u001b[0m\u001b[0mwidth_ratios\u001b[0m\u001b[0;34m,\u001b[0m\u001b[0;34m\u001b[0m\u001b[0;34m\u001b[0m\u001b[0m\n\u001b[1;32m    381\u001b[0m                          height_ratios=height_ratios)\n",
            "\u001b[0;32m/usr/local/lib/python3.10/dist-packages/matplotlib/gridspec.py\u001b[0m in \u001b[0;36m__init__\u001b[0;34m(self, nrows, ncols, height_ratios, width_ratios)\u001b[0m\n\u001b[1;32m     47\u001b[0m         \"\"\"\n\u001b[1;32m     48\u001b[0m         \u001b[0;32mif\u001b[0m \u001b[0;32mnot\u001b[0m \u001b[0misinstance\u001b[0m\u001b[0;34m(\u001b[0m\u001b[0mnrows\u001b[0m\u001b[0;34m,\u001b[0m \u001b[0mIntegral\u001b[0m\u001b[0;34m)\u001b[0m \u001b[0;32mor\u001b[0m \u001b[0mnrows\u001b[0m \u001b[0;34m<=\u001b[0m \u001b[0;36m0\u001b[0m\u001b[0;34m:\u001b[0m\u001b[0;34m\u001b[0m\u001b[0;34m\u001b[0m\u001b[0m\n\u001b[0;32m---> 49\u001b[0;31m             raise ValueError(\n\u001b[0m\u001b[1;32m     50\u001b[0m                 f\"Number of rows must be a positive integer, not {nrows!r}\")\n\u001b[1;32m     51\u001b[0m         \u001b[0;32mif\u001b[0m \u001b[0;32mnot\u001b[0m \u001b[0misinstance\u001b[0m\u001b[0;34m(\u001b[0m\u001b[0mncols\u001b[0m\u001b[0;34m,\u001b[0m \u001b[0mIntegral\u001b[0m\u001b[0;34m)\u001b[0m \u001b[0;32mor\u001b[0m \u001b[0mncols\u001b[0m \u001b[0;34m<=\u001b[0m \u001b[0;36m0\u001b[0m\u001b[0;34m:\u001b[0m\u001b[0;34m\u001b[0m\u001b[0;34m\u001b[0m\u001b[0m\n",
            "\u001b[0;31mValueError\u001b[0m: Number of rows must be a positive integer, not 20.0"
          ]
        },
        {
          "output_type": "display_data",
          "data": {
            "text/plain": [
              "<Figure size 1400x1300 with 0 Axes>"
            ]
          },
          "metadata": {}
        }
      ]
    },
    {
      "cell_type": "code",
      "source": [
        "n / 10"
      ],
      "metadata": {
        "colab": {
          "base_uri": "https://localhost:8080/"
        },
        "id": "d1BW2ZTZOYKy",
        "outputId": "37d30064-c5e3-4c10-f68e-79084ae7376f"
      },
      "execution_count": null,
      "outputs": [
        {
          "output_type": "execute_result",
          "data": {
            "text/plain": [
              "20.8"
            ]
          },
          "metadata": {},
          "execution_count": 17
        }
      ]
    }
  ]
}